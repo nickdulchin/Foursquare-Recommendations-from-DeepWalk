{
 "cells": [
  {
   "cell_type": "code",
   "execution_count": 1,
   "metadata": {},
   "outputs": [
    {
     "name": "stderr",
     "output_type": "stream",
     "text": [
      "/Users/nickdulchin/anaconda3/lib/python3.6/site-packages/sklearn/ensemble/weight_boosting.py:29: DeprecationWarning: numpy.core.umath_tests is an internal NumPy module and should not be imported. It will be removed in a future NumPy release.\n",
      "  from numpy.core.umath_tests import inner1d\n"
     ]
    }
   ],
   "source": [
    "import networkx as nx\n",
    "import pandas as pd\n",
    "import matplotlib.pyplot as plt\n",
    "from sklearn.cluster import KMeans\n",
    "import urllib.request as urllib\n",
    "import zipfile\n",
    "from sklearn.manifold import TSNE\n",
    "from scipy import sparse, io\n",
    "import io\n",
    "from scipy.io import loadmat,savemat\n",
    "from sklearn.linear_model import LogisticRegression\n",
    "from sklearn import datasets\n",
    "from sklearn.preprocessing import StandardScaler\n",
    "from sklearn.model_selection import train_test_split\n",
    "from sklearn.model_selection import cross_val_score\n",
    "from sklearn.model_selection import ShuffleSplit\n",
    "from sklearn.metrics import classification_report, confusion_matrix\n",
    "from sklearn.neighbors import KNeighborsClassifier\n",
    "from sklearn.naive_bayes import GaussianNB\n",
    "from sklearn.ensemble import RandomForestClassifier\n",
    "from sklearn.svm import LinearSVC\n",
    "from sklearn.neighbors import NearestNeighbors\n",
    "from sklearn.preprocessing import normalize\n",
    "import collections\n",
    "from scipy.sparse import coo_matrix\n",
    "import numpy as np\n",
    "from networkx.algorithms import bipartite\n",
    "import json, requests\n",
    "from urllib.request import Request, urlopen\n",
    "from bs4 import BeautifulSoup\n",
    "import random\n",
    "import implicit\n",
    "import os\n",
    "import matplotlib.patches as mpatches"
   ]
  },
  {
   "cell_type": "code",
   "execution_count": 2,
   "metadata": {},
   "outputs": [],
   "source": [
    "#Foursquare API id and secret code (hidden here)\n",
    "c_id='hidden'\n",
    "c_secret='hidden'"
   ]
  },
  {
   "cell_type": "code",
   "execution_count": 3,
   "metadata": {},
   "outputs": [],
   "source": [
    "#Create weighted edgelist to feed into deepwalk\n",
    "y = open(\"dataset_TSMC2014_NYC.txt\", \"r\",  encoding='latin-1')\n",
    "x = open(\"user_venue.txt\", \"w\")\n",
    "for line in y:\n",
    "    a=line.split()\n",
    "    x.write(a[0] + \" \" + a[1] + '\\n')\n",
    "y.close()\n",
    "x.close()\n",
    "matrix_fact=pd.DataFrame()\n",
    "users=[]\n",
    "venues=[]\n",
    "quantity=[]\n",
    "y = open('user_venue.txt', \"r\",  encoding='latin-1')\n",
    "for line in y:\n",
    "    a=line.split()\n",
    "    users.append(a[0])\n",
    "    venues.append(a[1])\n",
    "    quantity.append(1)\n",
    "matrix_fact['User']=users\n",
    "matrix_fact['Venue']=venues\n",
    "matrix_fact['Quantity']=quantity\n",
    "train_index=round(len(matrix_fact)*.8)\n",
    "matrix_fact_train=matrix_fact.iloc[0:train_index+1,:]\n",
    "matrix_fact_test=matrix_fact.iloc[train_index:,:]\n",
    "y.close()\n",
    "matrix_fact_train = matrix_fact_train.groupby(['User', 'Venue']).sum().reset_index()\n",
    "matrix_fact_test = matrix_fact_test\n",
    "x = open(\"train_foursquare.weighted_edgelist\", \"w\")\n",
    "for index,row in matrix_fact_train.iterrows():\n",
    "    x.write(str(row['User']) + \" \" + str(row['Venue']) + \" \" + str(row['Quantity']) + '\\n')\n",
    "x.close()"
   ]
  },
  {
   "cell_type": "code",
   "execution_count": 4,
   "metadata": {},
   "outputs": [
    {
     "name": "stdout",
     "output_type": "stream",
     "text": [
      "Number of Unique Users: 1083\n",
      "Number of Unique Venues: 38333\n",
      "           Quantity\n",
      "count  91024.000000\n",
      "mean       2.498550\n",
      "std        6.577072\n",
      "min        1.000000\n",
      "25%        1.000000\n",
      "50%        1.000000\n",
      "75%        2.000000\n",
      "max      257.000000\n"
     ]
    },
    {
     "data": {
      "text/html": [
       "<div>\n",
       "<style scoped>\n",
       "    .dataframe tbody tr th:only-of-type {\n",
       "        vertical-align: middle;\n",
       "    }\n",
       "\n",
       "    .dataframe tbody tr th {\n",
       "        vertical-align: top;\n",
       "    }\n",
       "\n",
       "    .dataframe thead th {\n",
       "        text-align: right;\n",
       "    }\n",
       "</style>\n",
       "<table border=\"1\" class=\"dataframe\">\n",
       "  <thead>\n",
       "    <tr style=\"text-align: right;\">\n",
       "      <th></th>\n",
       "      <th>User</th>\n",
       "      <th>Venue</th>\n",
       "      <th>Quantity</th>\n",
       "    </tr>\n",
       "  </thead>\n",
       "  <tbody>\n",
       "    <tr>\n",
       "      <th>0</th>\n",
       "      <td>1</td>\n",
       "      <td>3fd66200f964a52035e81ee3</td>\n",
       "      <td>1</td>\n",
       "    </tr>\n",
       "    <tr>\n",
       "      <th>1</th>\n",
       "      <td>1</td>\n",
       "      <td>3fd66200f964a52048e31ee3</td>\n",
       "      <td>1</td>\n",
       "    </tr>\n",
       "    <tr>\n",
       "      <th>2</th>\n",
       "      <td>1</td>\n",
       "      <td>3fd66200f964a52048e81ee3</td>\n",
       "      <td>1</td>\n",
       "    </tr>\n",
       "    <tr>\n",
       "      <th>3</th>\n",
       "      <td>1</td>\n",
       "      <td>3fd66200f964a52074e71ee3</td>\n",
       "      <td>1</td>\n",
       "    </tr>\n",
       "    <tr>\n",
       "      <th>4</th>\n",
       "      <td>1</td>\n",
       "      <td>3fd66200f964a52075ea1ee3</td>\n",
       "      <td>1</td>\n",
       "    </tr>\n",
       "  </tbody>\n",
       "</table>\n",
       "</div>"
      ],
      "text/plain": [
       "  User                     Venue  Quantity\n",
       "0    1  3fd66200f964a52035e81ee3         1\n",
       "1    1  3fd66200f964a52048e31ee3         1\n",
       "2    1  3fd66200f964a52048e81ee3         1\n",
       "3    1  3fd66200f964a52074e71ee3         1\n",
       "4    1  3fd66200f964a52075ea1ee3         1"
      ]
     },
     "execution_count": 4,
     "metadata": {},
     "output_type": "execute_result"
    }
   ],
   "source": [
    "matrix=matrix_fact.groupby(['User', 'Venue']).sum().reset_index()\n",
    "print(\"Number of Unique Users: {}\".format(len(np.unique(list(matrix.User.values)))))\n",
    "print(\"Number of Unique Venues: {}\".format(len(np.unique(list(matrix.Venue.values)))))\n",
    "print(matrix.describe())\n",
    "matrix.head()"
   ]
  },
  {
   "cell_type": "code",
   "execution_count": 5,
   "metadata": {},
   "outputs": [
    {
     "data": {
      "text/plain": [
       "'Name: \\nType: Graph\\nNumber of nodes: 35100\\nNumber of edges: 75014\\nAverage degree:   4.2743'"
      ]
     },
     "execution_count": 5,
     "metadata": {},
     "output_type": "execute_result"
    }
   ],
   "source": [
    "#use networkx to visualize the heterogenous network\n",
    "N=nx.read_weighted_edgelist('train_foursquare.weighted_edgelist')\n",
    "node_color=[]\n",
    "node_size=[]\n",
    "for n in N.nodes():\n",
    "    if len(n)>10:\n",
    "        N.nodes[n]['venue']=1\n",
    "        node_color.append('blue')\n",
    "        node_size.append(1)\n",
    "    else:\n",
    "        N.nodes[n]['venue']=0\n",
    "        node_color.append('red')\n",
    "        node_size.append(10)\n",
    "nx.info(N)"
   ]
  },
  {
   "cell_type": "code",
   "execution_count": 599,
   "metadata": {},
   "outputs": [
    {
     "name": "stderr",
     "output_type": "stream",
     "text": [
      "/Users/nickdulchin/anaconda3/lib/python3.6/site-packages/networkx/drawing/layout.py:499: RuntimeWarning: invalid value encountered in sqrt\n",
      "  distance = np.sqrt((delta**2).sum(axis=0))\n"
     ]
    },
    {
     "data": {
      "image/png": "[encoded data removed]",
      "text/plain": [
       "<Figure size 432x288 with 1 Axes>"
      ]
     },
     "metadata": {},
     "output_type": "display_data"
    }
   ],
   "source": [
    "nx.draw(N,pos=nx.spring_layout(N,k=0.2),node_size=node_size,width=0.2,node_color=node_color)"
   ]
  },
  {
   "cell_type": "code",
   "execution_count": 6,
   "metadata": {},
   "outputs": [
    {
     "data": {
      "image/png": "[encoded data removed]",
      "text/plain": [
       "<Figure size 432x288 with 1 Axes>"
      ]
     },
     "metadata": {},
     "output_type": "display_data"
    }
   ],
   "source": [
    "T=nx.Graph()\n",
    "T.add_nodes_from(['Venue 1', 'Venue 2','Venue 3', 'Venue 4','Venue 5', 'Venue 6','User A','User B','User C'])\n",
    "T.add_edges_from([('Venue 1', 'User A'), ('Venue 2', 'User A'), ('Venue 3','User A'),('Venue 2','User B'),('Venue 2','User C'),('Venue 6','User C'),('Venue 4','User C'),('Venue 5','User C')])\n",
    "#nx.draw_networkx_nodes(T,pos=nx.spring_layout(T),edgelist=T.edges())\n",
    "#nx.draw_networkx_edges(T,pos=nx.spring_layout(T),edgelist=T.edges())\n",
    "colors=('blue','blue','blue','blue','blue','blue','red','red','red')\n",
    "nx.draw(T,with_labels=True,node_color=colors)\n",
    "plt.draw()\n",
    "plt.show()"
   ]
  },
  {
   "cell_type": "code",
   "execution_count": 7,
   "metadata": {},
   "outputs": [
    {
     "data": {
      "text/html": [
       "<div>\n",
       "<style scoped>\n",
       "    .dataframe tbody tr th:only-of-type {\n",
       "        vertical-align: middle;\n",
       "    }\n",
       "\n",
       "    .dataframe tbody tr th {\n",
       "        vertical-align: top;\n",
       "    }\n",
       "\n",
       "    .dataframe thead th {\n",
       "        text-align: right;\n",
       "    }\n",
       "</style>\n",
       "<table border=\"1\" class=\"dataframe\">\n",
       "  <thead>\n",
       "    <tr style=\"text-align: right;\">\n",
       "      <th></th>\n",
       "      <th>ID</th>\n",
       "      <th>Venue</th>\n",
       "      <th>1</th>\n",
       "      <th>2</th>\n",
       "      <th>3</th>\n",
       "      <th>4</th>\n",
       "      <th>5</th>\n",
       "      <th>6</th>\n",
       "      <th>7</th>\n",
       "      <th>8</th>\n",
       "      <th>...</th>\n",
       "      <th>119</th>\n",
       "      <th>120</th>\n",
       "      <th>121</th>\n",
       "      <th>122</th>\n",
       "      <th>123</th>\n",
       "      <th>124</th>\n",
       "      <th>125</th>\n",
       "      <th>126</th>\n",
       "      <th>127</th>\n",
       "      <th>128</th>\n",
       "    </tr>\n",
       "  </thead>\n",
       "  <tbody>\n",
       "    <tr>\n",
       "      <th>1</th>\n",
       "      <td>354</td>\n",
       "      <td>False</td>\n",
       "      <td>0.216029</td>\n",
       "      <td>-0.062869</td>\n",
       "      <td>-0.173407</td>\n",
       "      <td>0.155046</td>\n",
       "      <td>-0.033744</td>\n",
       "      <td>-0.164517</td>\n",
       "      <td>-0.075850</td>\n",
       "      <td>0.040389</td>\n",
       "      <td>...</td>\n",
       "      <td>0.008658</td>\n",
       "      <td>0.285250</td>\n",
       "      <td>0.090996</td>\n",
       "      <td>0.219140</td>\n",
       "      <td>0.057427</td>\n",
       "      <td>0.056103</td>\n",
       "      <td>-0.026454</td>\n",
       "      <td>0.075612</td>\n",
       "      <td>0.201083</td>\n",
       "      <td>0.274943</td>\n",
       "    </tr>\n",
       "    <tr>\n",
       "      <th>2</th>\n",
       "      <td>84</td>\n",
       "      <td>False</td>\n",
       "      <td>0.133989</td>\n",
       "      <td>-0.239232</td>\n",
       "      <td>-0.035366</td>\n",
       "      <td>0.168362</td>\n",
       "      <td>0.006849</td>\n",
       "      <td>-0.183102</td>\n",
       "      <td>-0.695683</td>\n",
       "      <td>0.103376</td>\n",
       "      <td>...</td>\n",
       "      <td>-0.099847</td>\n",
       "      <td>0.181589</td>\n",
       "      <td>-0.244994</td>\n",
       "      <td>0.194138</td>\n",
       "      <td>0.142336</td>\n",
       "      <td>0.426399</td>\n",
       "      <td>0.257150</td>\n",
       "      <td>0.002618</td>\n",
       "      <td>0.061744</td>\n",
       "      <td>-0.076907</td>\n",
       "    </tr>\n",
       "    <tr>\n",
       "      <th>3</th>\n",
       "      <td>293</td>\n",
       "      <td>False</td>\n",
       "      <td>0.025160</td>\n",
       "      <td>-0.271704</td>\n",
       "      <td>-0.136658</td>\n",
       "      <td>0.056075</td>\n",
       "      <td>-0.752149</td>\n",
       "      <td>-0.504470</td>\n",
       "      <td>-0.054819</td>\n",
       "      <td>0.506476</td>\n",
       "      <td>...</td>\n",
       "      <td>0.065904</td>\n",
       "      <td>-0.292748</td>\n",
       "      <td>0.288880</td>\n",
       "      <td>0.595961</td>\n",
       "      <td>0.393892</td>\n",
       "      <td>0.383253</td>\n",
       "      <td>0.002395</td>\n",
       "      <td>0.451086</td>\n",
       "      <td>0.518651</td>\n",
       "      <td>0.120758</td>\n",
       "    </tr>\n",
       "    <tr>\n",
       "      <th>4</th>\n",
       "      <td>768</td>\n",
       "      <td>False</td>\n",
       "      <td>-0.291203</td>\n",
       "      <td>-0.577903</td>\n",
       "      <td>0.087353</td>\n",
       "      <td>-0.076148</td>\n",
       "      <td>-0.338735</td>\n",
       "      <td>-0.021335</td>\n",
       "      <td>-0.084637</td>\n",
       "      <td>0.011790</td>\n",
       "      <td>...</td>\n",
       "      <td>-0.322582</td>\n",
       "      <td>0.124846</td>\n",
       "      <td>-0.524789</td>\n",
       "      <td>0.274813</td>\n",
       "      <td>-0.150373</td>\n",
       "      <td>0.004856</td>\n",
       "      <td>0.041608</td>\n",
       "      <td>0.590815</td>\n",
       "      <td>0.550794</td>\n",
       "      <td>-0.210043</td>\n",
       "    </tr>\n",
       "    <tr>\n",
       "      <th>5</th>\n",
       "      <td>42911d00f964a520f5231fe3</td>\n",
       "      <td>True</td>\n",
       "      <td>0.007475</td>\n",
       "      <td>0.037446</td>\n",
       "      <td>0.159560</td>\n",
       "      <td>-0.105987</td>\n",
       "      <td>-0.027861</td>\n",
       "      <td>-0.287813</td>\n",
       "      <td>-0.143251</td>\n",
       "      <td>0.134571</td>\n",
       "      <td>...</td>\n",
       "      <td>-0.300366</td>\n",
       "      <td>-0.013297</td>\n",
       "      <td>-0.070214</td>\n",
       "      <td>0.234249</td>\n",
       "      <td>-0.112295</td>\n",
       "      <td>0.005045</td>\n",
       "      <td>-0.126854</td>\n",
       "      <td>-0.004123</td>\n",
       "      <td>-0.176200</td>\n",
       "      <td>0.114198</td>\n",
       "    </tr>\n",
       "  </tbody>\n",
       "</table>\n",
       "<p>5 rows × 130 columns</p>\n",
       "</div>"
      ],
      "text/plain": [
       "                         ID  Venue         1         2         3         4  \\\n",
       "1                       354  False  0.216029 -0.062869 -0.173407  0.155046   \n",
       "2                        84  False  0.133989 -0.239232 -0.035366  0.168362   \n",
       "3                       293  False  0.025160 -0.271704 -0.136658  0.056075   \n",
       "4                       768  False -0.291203 -0.577903  0.087353 -0.076148   \n",
       "5  42911d00f964a520f5231fe3   True  0.007475  0.037446  0.159560 -0.105987   \n",
       "\n",
       "          5         6         7         8  ...       119       120       121  \\\n",
       "1 -0.033744 -0.164517 -0.075850  0.040389  ...  0.008658  0.285250  0.090996   \n",
       "2  0.006849 -0.183102 -0.695683  0.103376  ... -0.099847  0.181589 -0.244994   \n",
       "3 -0.752149 -0.504470 -0.054819  0.506476  ...  0.065904 -0.292748  0.288880   \n",
       "4 -0.338735 -0.021335 -0.084637  0.011790  ... -0.322582  0.124846 -0.524789   \n",
       "5 -0.027861 -0.287813 -0.143251  0.134571  ... -0.300366 -0.013297 -0.070214   \n",
       "\n",
       "        122       123       124       125       126       127       128  \n",
       "1  0.219140  0.057427  0.056103 -0.026454  0.075612  0.201083  0.274943  \n",
       "2  0.194138  0.142336  0.426399  0.257150  0.002618  0.061744 -0.076907  \n",
       "3  0.595961  0.393892  0.383253  0.002395  0.451086  0.518651  0.120758  \n",
       "4  0.274813 -0.150373  0.004856  0.041608  0.590815  0.550794 -0.210043  \n",
       "5  0.234249 -0.112295  0.005045 -0.126854 -0.004123 -0.176200  0.114198  \n",
       "\n",
       "[5 rows x 130 columns]"
      ]
     },
     "execution_count": 7,
     "metadata": {},
     "output_type": "execute_result"
    }
   ],
   "source": [
    "#make deepwalk embeddings into a dataframe with a \"Venue\" dummy column added\n",
    "df=pd.read_csv('train_foursquare.embeddings128',names=list(range(129)),delimiter=' ')\n",
    "df.drop(df.index[0], inplace=True)\n",
    "df.rename({0: 'ID'}, axis='columns',inplace=True)\n",
    "df['Venue']=df['ID'].str.len() >10\n",
    "cols=df.columns.tolist()\n",
    "cols = cols[0:1] + cols[-1:] + cols[1:-1]\n",
    "df=df[cols]\n",
    "df.head()"
   ]
  },
  {
   "cell_type": "code",
   "execution_count": null,
   "metadata": {},
   "outputs": [],
   "source": [
    "#TSNE network visualization\n",
    "model = TSNE()\n",
    "tsne_features = model.fit_transform(df.values[:,2:])\n",
    "xs = tsne_features[:,0]\n",
    "ys = tsne_features[:,1]"
   ]
  },
  {
   "cell_type": "code",
   "execution_count": 412,
   "metadata": {},
   "outputs": [
    {
     "data": {
      "image/png": "[encoded data removed]",
      "text/plain": [
       "<Figure size 432x288 with 1 Axes>"
      ]
     },
     "metadata": {},
     "output_type": "display_data"
    }
   ],
   "source": [
    "color_dict = {0:'red', 1:'blue' }\n",
    "size_dict = {0:10,1:1}\n",
    "label_dict = {0:'user',1:'venue'}\n",
    "plt.scatter(xs,ys,c=[color_dict[i] for i in df['Venue']],s=[size_dict[i] for i in df['Venue']])\n",
    "red = mpatches.Patch(color = 'red', label='users')\n",
    "blue = mpatches.Patch(color = 'blue', label='venues')\n",
    "plt.legend(handles=[red,blue],loc='best',bbox_to_anchor=(0.792,0.843))\n",
    "plt.tight_layout()\n",
    "plt.show()"
   ]
  },
  {
   "cell_type": "code",
   "execution_count": 8,
   "metadata": {},
   "outputs": [],
   "source": [
    "#only evaluate on the users that are in train and test\n",
    "train=(set(matrix_fact_train.User.values))\n",
    "test=(set(matrix_fact_test.User.values))\n",
    "both=train.intersection(test)"
   ]
  },
  {
   "cell_type": "code",
   "execution_count": 9,
   "metadata": {},
   "outputs": [],
   "source": [
    "#function to get the full ranked list of recs for a user\n",
    "def get_recs_full(user):\n",
    "    norm_features=normalize(df.values[:,2:])\n",
    "    dataf = pd.DataFrame(norm_features,index=df.values[:,0])\n",
    "    current_venue = dataf.loc[str(user)]\n",
    "    similarities=dataf.dot(current_venue).values\n",
    "    sim_df=df.loc[:,['ID','Venue']]\n",
    "    sim_df['Similarity']=similarities\n",
    "    sim_df['Rank']=sim_df['Similarity'].rank(ascending=False)\n",
    "    sim_df=sim_df[sim_df['Venue']==True]\n",
    "    sim_df.set_index('ID',inplace=True,drop=True)\n",
    "    \n",
    "    return sim_df"
   ]
  },
  {
   "cell_type": "code",
   "execution_count": 67,
   "metadata": {},
   "outputs": [
    {
     "name": "stdout",
     "output_type": "stream",
     "text": [
      "0.1112726498953096\n"
     ]
    }
   ],
   "source": [
    "#deepwalk evaluation\n",
    "percentiles=[]\n",
    "for u in both:\n",
    "    visited_venues=matrix_fact_test[matrix_fact_test['User']==str(u)].Venue.values\n",
    "    rec=get_recs_full(str(u))\n",
    "    for v in visited_venues:\n",
    "        try:\n",
    "            p=rec.loc[str(v)]['Rank']/len(rec)\n",
    "        except:\n",
    "            continue\n",
    "        percentiles.append(p)\n",
    "mean=np.mean(percentiles)\n",
    "print(mean)"
   ]
  },
  {
   "cell_type": "code",
   "execution_count": null,
   "metadata": {},
   "outputs": [],
   "source": [
    "#random evaluation\n",
    "percentiles=[]\n",
    "for u in both:\n",
    "    unique_venues=np.unique(matrix_fact_train.Venue.values)\n",
    "    rec=get_recs_full(str(u))\n",
    "    for v in range(5):\n",
    "        try:\n",
    "            p=rec.loc[str(random.choice(unique_venues))]['Rank']/len(rec)\n",
    "        except:\n",
    "            continue\n",
    "        percentiles.append(p)\n",
    "mean=np.mean(percentiles)\n",
    "print(mean)"
   ]
  },
  {
   "cell_type": "code",
   "execution_count": 11,
   "metadata": {},
   "outputs": [
    {
     "data": {
      "text/plain": [
       "99.79546684241966"
      ]
     },
     "execution_count": 11,
     "metadata": {},
     "output_type": "execute_result"
    }
   ],
   "source": [
    "#setup sparse matrix\n",
    "customers = list(np.sort(matrix_fact_train.User.unique())) # Get our unique customers\n",
    "venues = list(matrix_fact_train.Venue.unique()) # Get our unique products that were purchased\n",
    "quantity = list(matrix_fact_train.Quantity) # All of our purchases\n",
    "# Get the associated row indices\n",
    "cols=matrix_fact_train.User.astype(pd.api.types.CategoricalDtype(categories = customers)).cat.codes\n",
    "# Get the associated column indices\n",
    "rows=matrix_fact_train.Venue.astype(pd.api.types.CategoricalDtype(categories = venues)).cat.codes \n",
    "checkin_sparse = sparse.csr_matrix((quantity, (rows, cols)), shape=(len(venues), len(customers)))\n",
    "checkin_size = checkin_sparse.shape[0]*checkin_sparse.shape[1] # Number of possible interactions in the matrix\n",
    "num_checkins = len(checkin_sparse.nonzero()[0]) # Number of items interacted with\n",
    "sparsity = 100*(1 - (num_checkins/checkin_size))\n",
    "sparsity"
   ]
  },
  {
   "cell_type": "code",
   "execution_count": 12,
   "metadata": {},
   "outputs": [
    {
     "name": "stderr",
     "output_type": "stream",
     "text": [
      "100%|██████████| 15.0/15 [00:01<00:00,  8.15it/s]\n"
     ]
    }
   ],
   "source": [
    "#fit als model\n",
    "os.environ[\"MKL_NUM_THREADS\"] = \"1\" \n",
    "als_model=implicit.als.AlternatingLeastSquares(factors=50)\n",
    "als_model.fit(checkin_sparse)\n",
    "user_items=checkin_sparse.T.tocsr()"
   ]
  },
  {
   "cell_type": "code",
   "execution_count": 13,
   "metadata": {},
   "outputs": [],
   "source": [
    "#function to get the full ranked list of recs for a user from als model\n",
    "def get_recs_full_als(user):\n",
    "    recs=als_model.rank_items(customers.index(str(user)),user_items,list(rows.unique()))\n",
    "    sim_df=pd.DataFrame(recs,columns=['ID','Prediction'])\n",
    "    sim_df['ID']=[venues[x] for x in sim_df['ID']]\n",
    "    sim_df['Rank']=sim_df['Prediction'].rank(ascending=False)\n",
    "    sim_df.set_index('ID',inplace=True,drop=True)\n",
    "    \n",
    "    return sim_df"
   ]
  },
  {
   "cell_type": "code",
   "execution_count": 323,
   "metadata": {},
   "outputs": [
    {
     "name": "stdout",
     "output_type": "stream",
     "text": [
      "0.09644437368655868\n"
     ]
    }
   ],
   "source": [
    "#als evaluation\n",
    "percentiles=[]\n",
    "for u in both:\n",
    "    visited_venues=matrix_fact_test[matrix_fact_test['User']==str(u)].Venue.values\n",
    "    rec=get_recs_full_als(str(u))\n",
    "    for v in visited_venues:\n",
    "        try:\n",
    "            p=rec.loc[str(v)]['Rank']/len(rec)\n",
    "        except:\n",
    "            continue\n",
    "        percentiles.append(p)\n",
    "mean=np.mean(percentiles)\n",
    "print(mean)"
   ]
  },
  {
   "cell_type": "code",
   "execution_count": 14,
   "metadata": {
    "scrolled": true
   },
   "outputs": [
    {
     "name": "stderr",
     "output_type": "stream",
     "text": [
      "100%|██████████| 100/100 [00:04<00:00, 21.41it/s, correct=93.50%, skipped=1.45%]\n"
     ]
    }
   ],
   "source": [
    "#fit bpr model\n",
    "os.environ[\"MKL_NUM_THREADS\"] = \"1\" \n",
    "bpr_model=implicit.bpr.BayesianPersonalizedRanking(factors=50)\n",
    "bpr_model.fit(checkin_sparse)"
   ]
  },
  {
   "cell_type": "code",
   "execution_count": 15,
   "metadata": {},
   "outputs": [],
   "source": [
    "#function to get the full ranked list of recs for a user from bpr model\n",
    "def get_recs_full_bpr(user):\n",
    "    recs=bpr_model.rank_items(customers.index(str(user)),user_items,list(rows.unique()))\n",
    "    sim_df=pd.DataFrame(recs,columns=['ID','Prediction'])\n",
    "    sim_df['ID']=[venues[x] for x in sim_df['ID']]\n",
    "    sim_df['Rank']=sim_df['Prediction'].rank(ascending=False)\n",
    "    sim_df.set_index('ID',inplace=True,drop=True)\n",
    "    \n",
    "    return sim_df"
   ]
  },
  {
   "cell_type": "code",
   "execution_count": 331,
   "metadata": {},
   "outputs": [
    {
     "name": "stdout",
     "output_type": "stream",
     "text": [
      "0.12809372881912487\n"
     ]
    }
   ],
   "source": [
    "#bpr evaluation\n",
    "percentiles=[]\n",
    "for u in both:\n",
    "    visited_venues=matrix_fact_test[matrix_fact_test['User']==str(u)].Venue.values\n",
    "    rec=get_recs_full_bpr(str(u))\n",
    "    for v in visited_venues:\n",
    "        try:\n",
    "            p=rec.loc[str(v)]['Rank']/len(rec)\n",
    "        except:\n",
    "            continue\n",
    "        percentiles.append(p)\n",
    "mean=np.mean(percentiles)\n",
    "print(mean)"
   ]
  },
  {
   "cell_type": "code",
   "execution_count": 442,
   "metadata": {},
   "outputs": [],
   "source": [
    "def get_deepwalk_recs(user):\n",
    "    norm_features=normalize(df.values[:,2:])\n",
    "    dataf = pd.DataFrame(norm_features,index=df.values[:,0])\n",
    "    current_venue = dataf.loc[str(user)]\n",
    "    similarities=dataf.dot(current_venue).values\n",
    "    sim_df=df.loc[:,['ID','Venue']]\n",
    "    sim_df['Similarity']=similarities\n",
    "    sim_df['Rank']=sim_df['Similarity'].rank(ascending=False)\n",
    "    sim_df=sim_df[sim_df['Venue']==True]\n",
    "    largest=sim_df.nlargest(10,'Similarity')\n",
    "    names=[]\n",
    "    for n in largest.ID.values:\n",
    "        VENUE_ID=n\n",
    "        url = str('https://api.foursquare.com/v2/venues/')+str(VENUE_ID)\n",
    "        params = dict(\n",
    "          client_id=c_id,\n",
    "          client_secret=c_secret,\n",
    "          v='20190414'\n",
    "        )\n",
    "        resp = requests.get(url=url, params=params)\n",
    "        data = json.loads(resp.text)\n",
    "        names.append(data['response']['venue']['name'])\n",
    "    largest['Name']=names\n",
    "    largest=largest[['Name','Similarity']]\n",
    "    largest.set_index('Name',inplace=True)\n",
    "    \n",
    "    print(largest)\n",
    "    pd.options.mode.chained_assignment = None"
   ]
  },
  {
   "cell_type": "code",
   "execution_count": 546,
   "metadata": {},
   "outputs": [],
   "source": [
    "def get_random_recs(user):\n",
    "    norm_features=normalize(df.values[:,2:])\n",
    "    dataf = pd.DataFrame(norm_features,index=df.values[:,0])\n",
    "    current_venue = dataf.loc[str(user)]\n",
    "    similarities=dataf.dot(current_venue).values\n",
    "    sim_df=df.loc[:,['ID','Venue']]\n",
    "    sim_df['Similarity']=similarities\n",
    "    sim_df['Rank']=sim_df['Similarity'].rank(ascending=False)\n",
    "    sim_df=sim_df[sim_df['Venue']==True]\n",
    "    rand=random.choices(range(34022),k=10)\n",
    "    rand_df=sim_df.iloc[rand,:]\n",
    "    names=[]\n",
    "    for n in rand_df.ID.values:\n",
    "        VENUE_ID=n\n",
    "        url = str('https://api.foursquare.com/v2/venues/')+str(VENUE_ID)\n",
    "        params = dict(\n",
    "          client_id=c_id,\n",
    "          client_secret=c_secret,\n",
    "          v='20190414'\n",
    "        )\n",
    "        resp = requests.get(url=url, params=params)\n",
    "        data = json.loads(resp.text)\n",
    "        names.append(data['response']['venue']['name'])\n",
    "    rand_df['Name']=names\n",
    "    rand_df=rand_df[['Name','Similarity']]\n",
    "    rand_df.set_index('Name',inplace=True)\n",
    "    \n",
    "    print(rand_df)\n",
    "    pd.options.mode.chained_assignment = None"
   ]
  },
  {
   "cell_type": "code",
   "execution_count": 451,
   "metadata": {},
   "outputs": [],
   "source": [
    "def get_als_recs(user):\n",
    "    recs=als_model.rank_items(customers.index(str(user)),user_items,list(rows.unique()))\n",
    "    sim_df=pd.DataFrame(recs,columns=['ID','Prediction'])\n",
    "    sim_df['ID']=[venues[x] for x in sim_df['ID']]\n",
    "    sim_df['Rank']=sim_df['Prediction'].rank(ascending=False)\n",
    "    largest=sim_df.nlargest(10,'Prediction')\n",
    "    names=[]\n",
    "    for n in largest.ID.values:\n",
    "        VENUE_ID=n\n",
    "        url = str('https://api.foursquare.com/v2/venues/')+str(VENUE_ID)\n",
    "        params = dict(\n",
    "          client_id=c_id,\n",
    "          client_secret=c_secret,\n",
    "          v='20190414'\n",
    "        )\n",
    "        resp = requests.get(url=url, params=params)\n",
    "        data = json.loads(resp.text)\n",
    "        names.append(data['response']['venue']['name'])\n",
    "    largest['Name']=names\n",
    "    largest=largest[['Name','Prediction']]\n",
    "    largest.set_index('Name',inplace=True)\n",
    "    \n",
    "    print(largest)\n",
    "    pd.options.mode.chained_assignment = None"
   ]
  },
  {
   "cell_type": "code",
   "execution_count": 449,
   "metadata": {},
   "outputs": [],
   "source": [
    "def get_bpr_recs(user):\n",
    "    recs=bpr_model.rank_items(customers.index(str(user)),user_items,list(rows.unique()))\n",
    "    sim_df=pd.DataFrame(recs,columns=['ID','Prediction'])\n",
    "    sim_df['ID']=[venues[x] for x in sim_df['ID']]\n",
    "    sim_df['Rank']=sim_df['Prediction'].rank(ascending=False)\n",
    "    largest=sim_df.nlargest(10,'Prediction')\n",
    "    names=[]\n",
    "    for n in largest.ID.values:\n",
    "        VENUE_ID=n\n",
    "        url = str('https://api.foursquare.com/v2/venues/')+str(VENUE_ID)\n",
    "        params = dict(\n",
    "          client_id=c_id,\n",
    "          client_secret=c_secret,\n",
    "          v='20190414'\n",
    "        )\n",
    "        resp = requests.get(url=url, params=params)\n",
    "        data = json.loads(resp.text)\n",
    "        names.append(data['response']['venue']['name'])\n",
    "    largest['Name']=names\n",
    "    largest=largest[['Name','Prediction']]\n",
    "    largest.set_index('Name',inplace=True)\n",
    "    \n",
    "    print(largest)\n",
    "    pd.options.mode.chained_assignment = None"
   ]
  },
  {
   "cell_type": "code",
   "execution_count": 647,
   "metadata": {},
   "outputs": [
    {
     "name": "stdout",
     "output_type": "stream",
     "text": [
      "                                    Similarity\n",
      "Name                                          \n",
      "Home                                  0.996540\n",
      "Ray Hermann's Fighting Tigers Dojo    0.994059\n",
      "The Greeks                            0.987749\n",
      "Hanshi's House                        0.982498\n",
      "Arlington Pizza                       0.981334\n",
      "Cigar Emporium                        0.971570\n",
      "Fisher's Cafe                         0.960393\n",
      "Anthony's Coal Fired Pizza            0.958846\n",
      "North Arlington Loop                  0.957396\n",
      "Lassoni's                             0.953063\n"
     ]
    }
   ],
   "source": [
    "get_deepwalk_recs(1078)"
   ]
  },
  {
   "cell_type": "code",
   "execution_count": 646,
   "metadata": {},
   "outputs": [
    {
     "name": "stdout",
     "output_type": "stream",
     "text": [
      "                                 Similarity\n",
      "Name                                       \n",
      "Mothersdaypocolyse                 0.138935\n",
      "Dunkin'                            0.096406\n",
      "Au Bon Pain                        0.197100\n",
      "Disney store (Disney Store)        0.213997\n",
      "Momento pizza                      0.015944\n",
      "Bummedtheweekendisoverpocalypse    0.059693\n",
      "World Science Festival             0.010079\n",
      "Wakefield                          0.080046\n",
      "Rite Aid                           0.074796\n",
      "Sake Sushi Restaurant              0.026566\n"
     ]
    }
   ],
   "source": [
    "get_random_recs(1078)"
   ]
  },
  {
   "cell_type": "code",
   "execution_count": 645,
   "metadata": {},
   "outputs": [
    {
     "name": "stdout",
     "output_type": "stream",
     "text": [
      "                                        Prediction\n",
      "Name                                              \n",
      "NJT - Essex Street Light Rail Station     0.467687\n",
      "Arlington Diner                           0.466674\n",
      "The Bicycle Club                          0.451889\n",
      "QuickChek                                 0.447967\n",
      "NJT - Newport Light Rail Station          0.432881\n",
      "Bloomfield, NJ                            0.427600\n",
      "NJT - Jersey Avenue Light Rail Station    0.424508\n",
      "Wendy's                                   0.412020\n",
      "Dunkin'                                   0.409446\n",
      "Walmart Supercenter                       0.407728\n"
     ]
    }
   ],
   "source": [
    "get_bpr_recs(1078)"
   ]
  },
  {
   "cell_type": "code",
   "execution_count": 643,
   "metadata": {},
   "outputs": [
    {
     "name": "stdout",
     "output_type": "stream",
     "text": [
      "                                    Prediction\n",
      "Name                                          \n",
      "Home                                  0.729963\n",
      "Ray Hermann's Fighting Tigers Dojo    0.603784\n",
      "Sports Authority                      0.421256\n",
      "Dunkin'                               0.353030\n",
      "The Greeks                            0.314295\n",
      "Tops Diner                            0.279823\n",
      "fabi's original habitat               0.265262\n",
      "Jerzey Ink Tattoo Parlor              0.262076\n",
      "Chop's Outhouse                       0.251491\n",
      "Home: Hoodlumville                    0.249958\n"
     ]
    }
   ],
   "source": [
    "get_als_recs(1078)"
   ]
  },
  {
   "cell_type": "code",
   "execution_count": 644,
   "metadata": {},
   "outputs": [
    {
     "name": "stdout",
     "output_type": "stream",
     "text": [
      "      User                          Venue Name  Quantity\n",
      "6017  1078                                Home        53\n",
      "6018  1078  Ray Hermann's Fighting Tigers Dojo        30\n",
      "6013  1078                          The Greeks         9\n",
      "6022  1078                      Hanshi's House         6\n",
      "6008  1078                     Arlington Pizza         5\n",
      "6006  1078                          Rutt's Hut         4\n",
      "6015  1078                      Cigar Emporium         2\n",
      "6007  1078                     Arlington Diner         2\n",
      "6004  1078                          Tops Diner         2\n",
      "6009  1078                       Fisher's Cafe         1\n",
      "6010  1078                           Stewart's         1\n",
      "6011  1078                      Colonial Diner         1\n",
      "6012  1078                        Massage Envy         1\n",
      "6005  1078                           Lassoni's         1\n",
      "6014  1078                                IHOP         1\n",
      "6016  1078                 Grand Street Campus         1\n",
      "6019  1078              The Kearny Coffee Shop         1\n",
      "6020  1078                North Arlington Loop         1\n",
      "6021  1078          Anthony's Coal Fired Pizza         1\n"
     ]
    }
   ],
   "source": [
    "training_venues_print(1078)"
   ]
  },
  {
   "cell_type": "code",
   "execution_count": 616,
   "metadata": {},
   "outputs": [],
   "source": [
    "def training_venues_print(user):\n",
    "    visited=[]\n",
    "    for n in range(len(matrix_fact_train)):\n",
    "        if matrix_fact_train.User[n]==str(user):\n",
    "            visited.append(n)\n",
    "    visited_df=matrix_fact_train.iloc[visited]\n",
    "    names=[]\n",
    "    for n in visited_df.Venue.values:\n",
    "        VENUE_ID=n\n",
    "        url = str('https://api.foursquare.com/v2/venues/')+str(VENUE_ID)\n",
    "        params = dict(\n",
    "          client_id=c_id,\n",
    "          client_secret=c_secret,\n",
    "          v='20190414'\n",
    "        )\n",
    "        resp = requests.get(url=url, params=params)\n",
    "        data = json.loads(resp.text)\n",
    "        names.append(data['response']['venue']['name'])\n",
    "    visited_df['Venue Name']=names\n",
    "    visited_df=visited_df[['User','Venue Name','Quantity']]\n",
    "    visited_df.sort_values(by='Quantity',ascending=False,inplace=True)\n",
    "    \n",
    "    print(visited_df)\n",
    "    pd.options.mode.chained_assignment = None"
   ]
  },
  {
   "cell_type": "code",
   "execution_count": 68,
   "metadata": {},
   "outputs": [],
   "source": [
    "def training_venues_list(user):\n",
    "    visited=[]\n",
    "    for n in range(len(matrix_fact_train)):\n",
    "        if matrix_fact_train.User[n]==str(user):\n",
    "            visited.append(n)\n",
    "    visited_df=matrix_fact_train.iloc[visited]\n",
    "    return list(visited_df.Venue.values)"
   ]
  },
  {
   "cell_type": "code",
   "execution_count": 64,
   "metadata": {},
   "outputs": [],
   "source": [
    "#function to get the full ranked list of recs for a user\n",
    "def get_recs_no_repeats(user):\n",
    "    norm_features=normalize(df.values[:,2:])\n",
    "    dataf = pd.DataFrame(norm_features,index=df.values[:,0])\n",
    "    current_venue = dataf.loc[str(user)]\n",
    "    similarities=dataf.dot(current_venue).values\n",
    "    sim_df=df.loc[:,['ID','Venue']]\n",
    "    sim_df['Similarity']=similarities\n",
    "    sim_df['Rank']=sim_df['Similarity'].rank(ascending=False)\n",
    "    sim_df=sim_df[sim_df['Venue']==True]\n",
    "    sim_df=sim_df[~sim_df['ID'].isin(training_venues_list(user))]\n",
    "    sim_df.set_index('ID',inplace=True,drop=True)\n",
    "    \n",
    "    return sim_df"
   ]
  },
  {
   "cell_type": "code",
   "execution_count": 621,
   "metadata": {},
   "outputs": [
    {
     "name": "stdout",
     "output_type": "stream",
     "text": [
      "0.3292247304092337\n"
     ]
    }
   ],
   "source": [
    "#deepwalk evaluation no repeats\n",
    "percentiles=[]\n",
    "for u in both:\n",
    "    visited_venues=matrix_fact_test[matrix_fact_test['User']==str(u)].Venue.values\n",
    "    rec=get_recs_no_repeats(str(u))\n",
    "    for v in visited_venues:\n",
    "        try:\n",
    "            p=rec.loc[str(v)]['Rank']/len(rec)\n",
    "        except:\n",
    "            continue\n",
    "        percentiles.append(p)\n",
    "mean=np.mean(percentiles)\n",
    "print(mean)"
   ]
  },
  {
   "cell_type": "code",
   "execution_count": 622,
   "metadata": {},
   "outputs": [
    {
     "name": "stdout",
     "output_type": "stream",
     "text": [
      "0.5171858827471364\n"
     ]
    }
   ],
   "source": [
    "#random evaluation no repeats\n",
    "percentiles=[]\n",
    "for u in both:\n",
    "    unique_venues=np.unique(matrix_fact_train.Venue.values)\n",
    "    rec=get_recs_no_repeats(str(u))\n",
    "    for v in range(5):\n",
    "        try:\n",
    "            p=rec.loc[str(random.choice(unique_venues))]['Rank']/len(rec)\n",
    "        except:\n",
    "            continue\n",
    "        percentiles.append(p)\n",
    "mean=np.mean(percentiles)\n",
    "print(mean)"
   ]
  },
  {
   "cell_type": "code",
   "execution_count": 65,
   "metadata": {},
   "outputs": [],
   "source": [
    "#function to get the full ranked list of recs for a user from als model no repeats\n",
    "def get_recs_no_repeats_als(user):\n",
    "    recs=als_model.rank_items(customers.index(str(user)),user_items,list(rows.unique()))\n",
    "    sim_df=pd.DataFrame(recs,columns=['ID','Prediction'])\n",
    "    sim_df['ID']=[venues[x] for x in sim_df['ID']]\n",
    "    sim_df=sim_df[~sim_df['ID'].isin(training_venues_list(user))]\n",
    "    sim_df['Rank']=sim_df['Prediction'].rank(ascending=False)\n",
    "    sim_df.set_index('ID',inplace=True,drop=True)\n",
    "    \n",
    "    return sim_df"
   ]
  },
  {
   "cell_type": "code",
   "execution_count": 624,
   "metadata": {},
   "outputs": [
    {
     "name": "stdout",
     "output_type": "stream",
     "text": [
      "0.26223193214750923\n"
     ]
    }
   ],
   "source": [
    "#als evaluation no repeats\n",
    "percentiles=[]\n",
    "for u in both:\n",
    "    visited_venues=matrix_fact_test[matrix_fact_test['User']==str(u)].Venue.values\n",
    "    rec=get_recs_no_repeats_als(str(u))\n",
    "    for v in visited_venues:\n",
    "        try:\n",
    "            p=rec.loc[str(v)]['Rank']/len(rec)\n",
    "        except:\n",
    "            continue\n",
    "        percentiles.append(p)\n",
    "mean=np.mean(percentiles)\n",
    "print(mean)"
   ]
  },
  {
   "cell_type": "code",
   "execution_count": 66,
   "metadata": {},
   "outputs": [],
   "source": [
    "#function to get the full ranked list of recs for a user from bpr model no repeats\n",
    "def get_recs_no_repeats_bpr(user):\n",
    "    recs=bpr_model.rank_items(customers.index(str(user)),user_items,list(rows.unique()))\n",
    "    sim_df=pd.DataFrame(recs,columns=['ID','Prediction'])\n",
    "    sim_df['ID']=[venues[x] for x in sim_df['ID']]\n",
    "    sim_df=sim_df[~sim_df['ID'].isin(training_venues_list(user))]\n",
    "    sim_df['Rank']=sim_df['Prediction'].rank(ascending=False)\n",
    "    sim_df.set_index('ID',inplace=True,drop=True)\n",
    "    \n",
    "    return sim_df"
   ]
  },
  {
   "cell_type": "code",
   "execution_count": 626,
   "metadata": {},
   "outputs": [
    {
     "name": "stdout",
     "output_type": "stream",
     "text": [
      "0.29506407755992703\n"
     ]
    }
   ],
   "source": [
    "#bpr evaluation no repeats\n",
    "percentiles=[]\n",
    "for u in both:\n",
    "    visited_venues=matrix_fact_test[matrix_fact_test['User']==str(u)].Venue.values\n",
    "    rec=get_recs_no_repeats_bpr(str(u))\n",
    "    for v in visited_venues:\n",
    "        try:\n",
    "            p=rec.loc[str(v)]['Rank']/len(rec)\n",
    "        except:\n",
    "            continue\n",
    "        percentiles.append(p)\n",
    "mean=np.mean(percentiles)\n",
    "print(mean)"
   ]
  },
  {
   "cell_type": "code",
   "execution_count": 20,
   "metadata": {},
   "outputs": [
    {
     "name": "stdout",
     "output_type": "stream",
     "text": [
      "0.12446462766143465\n"
     ]
    }
   ],
   "source": [
    "#deepwalk evaluation mrr\n",
    "recip_ranks=[]\n",
    "for u in both:\n",
    "    visited_venues=matrix_fact_test[matrix_fact_test['User']==str(u)].Venue.values\n",
    "    rec=get_recs_full(str(u))\n",
    "    for v in visited_venues:\n",
    "        try:\n",
    "            rr=1/rec.loc[str(v)]['Rank']\n",
    "        except:\n",
    "            continue\n",
    "        recip_ranks.append(rr)\n",
    "mean=np.mean(recip_ranks)\n",
    "print(mean)"
   ]
  },
  {
   "cell_type": "code",
   "execution_count": 21,
   "metadata": {},
   "outputs": [
    {
     "name": "stdout",
     "output_type": "stream",
     "text": [
      "0.00023116171948769733\n"
     ]
    }
   ],
   "source": [
    "#random evaluation mrr\n",
    "recip_ranks=[]\n",
    "for u in both:\n",
    "    unique_venues=np.unique(matrix_fact_train.Venue.values)\n",
    "    rec=get_recs_full(str(u))\n",
    "    for v in range(5):\n",
    "        try:\n",
    "            rr=1/rec.loc[str(random.choice(unique_venues))]['Rank']\n",
    "        except:\n",
    "            continue\n",
    "        recip_ranks.append(rr)\n",
    "mean=np.mean(recip_ranks)\n",
    "print(mean)"
   ]
  },
  {
   "cell_type": "code",
   "execution_count": 36,
   "metadata": {},
   "outputs": [
    {
     "name": "stdout",
     "output_type": "stream",
     "text": [
      "0.12283363548221207\n"
     ]
    }
   ],
   "source": [
    "#als evaluation mrr\n",
    "recip_ranks=[]\n",
    "for u in both:\n",
    "    visited_venues=matrix_fact_test[matrix_fact_test['User']==str(u)].Venue.values\n",
    "    rec=get_recs_full_als(str(u))\n",
    "    for v in visited_venues:\n",
    "        try:\n",
    "            rr=1/rec.loc[str(v)]['Rank']\n",
    "        except:\n",
    "            continue\n",
    "        recip_ranks.append(rr)\n",
    "mean=np.mean(recip_ranks)\n",
    "print(mean)"
   ]
  },
  {
   "cell_type": "code",
   "execution_count": 38,
   "metadata": {},
   "outputs": [
    {
     "name": "stdout",
     "output_type": "stream",
     "text": [
      "0.02743523868548065\n"
     ]
    }
   ],
   "source": [
    "#bpr evaluation mrr\n",
    "recip_ranks=[]\n",
    "for u in both:\n",
    "    visited_venues=matrix_fact_test[matrix_fact_test['User']==str(u)].Venue.values\n",
    "    rec=get_recs_full_bpr(str(u))\n",
    "    for v in visited_venues:\n",
    "        try:\n",
    "            rr=1/rec.loc[str(v)]['Rank']\n",
    "        except:\n",
    "            continue\n",
    "        recip_ranks.append(rr)\n",
    "mean=np.mean(recip_ranks)\n",
    "print(mean)"
   ]
  },
  {
   "cell_type": "code",
   "execution_count": 69,
   "metadata": {},
   "outputs": [
    {
     "name": "stdout",
     "output_type": "stream",
     "text": [
      "0.0010715103094127347\n"
     ]
    }
   ],
   "source": [
    "#deepwalk evaluation mrr no repeats\n",
    "recip_ranks=[]\n",
    "for u in both:\n",
    "    visited_venues=matrix_fact_test[matrix_fact_test['User']==str(u)].Venue.values\n",
    "    rec=get_recs_no_repeats(str(u))\n",
    "    for v in visited_venues:\n",
    "        try:\n",
    "            rr=1/rec.loc[str(v)]['Rank']\n",
    "        except:\n",
    "            continue\n",
    "        recip_ranks.append(rr)\n",
    "mean=np.mean(recip_ranks)\n",
    "print(mean)"
   ]
  },
  {
   "cell_type": "code",
   "execution_count": 70,
   "metadata": {},
   "outputs": [
    {
     "name": "stdout",
     "output_type": "stream",
     "text": [
      "0.0001733386209883186\n"
     ]
    }
   ],
   "source": [
    "#random evaluation mrr no repeats\n",
    "recip_ranks=[]\n",
    "for u in both:\n",
    "    unique_venues=np.unique(matrix_fact_train.Venue.values)\n",
    "    rec=get_recs_no_repeats(str(u))\n",
    "    for v in range(5):\n",
    "        try:\n",
    "            rr=1/rec.loc[str(random.choice(unique_venues))]['Rank']\n",
    "        except:\n",
    "            continue\n",
    "        recip_ranks.append(rr)\n",
    "mean=np.mean(recip_ranks)\n",
    "print(mean)"
   ]
  },
  {
   "cell_type": "code",
   "execution_count": 71,
   "metadata": {},
   "outputs": [
    {
     "name": "stdout",
     "output_type": "stream",
     "text": [
      "0.015795199188596485\n"
     ]
    }
   ],
   "source": [
    "#als evaluation mrr\n",
    "recip_ranks=[]\n",
    "for u in both:\n",
    "    visited_venues=matrix_fact_test[matrix_fact_test['User']==str(u)].Venue.values\n",
    "    rec=get_recs_no_repeats_als(str(u))\n",
    "    for v in visited_venues:\n",
    "        try:\n",
    "            rr=1/rec.loc[str(v)]['Rank']\n",
    "        except:\n",
    "            continue\n",
    "        recip_ranks.append(rr)\n",
    "mean=np.mean(recip_ranks)\n",
    "print(mean)"
   ]
  },
  {
   "cell_type": "code",
   "execution_count": 72,
   "metadata": {},
   "outputs": [
    {
     "name": "stdout",
     "output_type": "stream",
     "text": [
      "0.010447243050210435\n"
     ]
    }
   ],
   "source": [
    "#bpr evaluation mrr\n",
    "recip_ranks=[]\n",
    "for u in both:\n",
    "    visited_venues=matrix_fact_test[matrix_fact_test['User']==str(u)].Venue.values\n",
    "    rec=get_recs_no_repeats_bpr(str(u))\n",
    "    for v in visited_venues:\n",
    "        try:\n",
    "            rr=1/rec.loc[str(v)]['Rank']\n",
    "        except:\n",
    "            continue\n",
    "        recip_ranks.append(rr)\n",
    "mean=np.mean(recip_ranks)\n",
    "print(mean)"
   ]
  },
  {
   "cell_type": "code",
   "execution_count": 77,
   "metadata": {},
   "outputs": [
    {
     "data": {
      "text/html": [
       "<div>\n",
       "<style scoped>\n",
       "    .dataframe tbody tr th:only-of-type {\n",
       "        vertical-align: middle;\n",
       "    }\n",
       "\n",
       "    .dataframe tbody tr th {\n",
       "        vertical-align: top;\n",
       "    }\n",
       "\n",
       "    .dataframe thead th {\n",
       "        text-align: right;\n",
       "    }\n",
       "</style>\n",
       "<table border=\"1\" class=\"dataframe\">\n",
       "  <thead>\n",
       "    <tr style=\"text-align: right;\">\n",
       "      <th></th>\n",
       "      <th>EPR (all)</th>\n",
       "      <th>Rank</th>\n",
       "      <th>EPR (no repeats)</th>\n",
       "      <th>Rank</th>\n",
       "      <th>MRR (all)</th>\n",
       "      <th>Rank</th>\n",
       "      <th>MRR (no repeats)</th>\n",
       "      <th>Rank</th>\n",
       "    </tr>\n",
       "    <tr>\n",
       "      <th>Model</th>\n",
       "      <th></th>\n",
       "      <th></th>\n",
       "      <th></th>\n",
       "      <th></th>\n",
       "      <th></th>\n",
       "      <th></th>\n",
       "      <th></th>\n",
       "      <th></th>\n",
       "    </tr>\n",
       "  </thead>\n",
       "  <tbody>\n",
       "    <tr>\n",
       "      <th>ALS</th>\n",
       "      <td>0.096444</td>\n",
       "      <td>1</td>\n",
       "      <td>0.262232</td>\n",
       "      <td>1</td>\n",
       "      <td>0.122834</td>\n",
       "      <td>2</td>\n",
       "      <td>0.015795</td>\n",
       "      <td>1</td>\n",
       "    </tr>\n",
       "    <tr>\n",
       "      <th>Deepwalk</th>\n",
       "      <td>0.111273</td>\n",
       "      <td>2</td>\n",
       "      <td>0.329225</td>\n",
       "      <td>3</td>\n",
       "      <td>0.124465</td>\n",
       "      <td>1</td>\n",
       "      <td>0.001072</td>\n",
       "      <td>3</td>\n",
       "    </tr>\n",
       "    <tr>\n",
       "      <th>BPR</th>\n",
       "      <td>0.128094</td>\n",
       "      <td>3</td>\n",
       "      <td>0.295064</td>\n",
       "      <td>2</td>\n",
       "      <td>0.027435</td>\n",
       "      <td>3</td>\n",
       "      <td>0.010447</td>\n",
       "      <td>2</td>\n",
       "    </tr>\n",
       "    <tr>\n",
       "      <th>Random</th>\n",
       "      <td>0.516386</td>\n",
       "      <td>4</td>\n",
       "      <td>0.517186</td>\n",
       "      <td>4</td>\n",
       "      <td>0.000231</td>\n",
       "      <td>4</td>\n",
       "      <td>0.000173</td>\n",
       "      <td>4</td>\n",
       "    </tr>\n",
       "  </tbody>\n",
       "</table>\n",
       "</div>"
      ],
      "text/plain": [
       "          EPR (all)  Rank  EPR (no repeats)  Rank  MRR (all)  Rank  \\\n",
       "Model                                                                \n",
       "ALS        0.096444     1          0.262232     1   0.122834     2   \n",
       "Deepwalk   0.111273     2          0.329225     3   0.124465     1   \n",
       "BPR        0.128094     3          0.295064     2   0.027435     3   \n",
       "Random     0.516386     4          0.517186     4   0.000231     4   \n",
       "\n",
       "          MRR (no repeats)  Rank  \n",
       "Model                             \n",
       "ALS               0.015795     1  \n",
       "Deepwalk          0.001072     3  \n",
       "BPR               0.010447     2  \n",
       "Random            0.000173     4  "
      ]
     },
     "execution_count": 77,
     "metadata": {},
     "output_type": "execute_result"
    }
   ],
   "source": [
    "data=[['ALS',0.09644437368655868,1,0.26223193214750923,1,0.12283363548221207,2,0.015795199188596485,1],['Deepwalk',0.1112726498953096,2,0.3292247304092337,3,0.12446462766143465,1,0.0010715103094127347,3],['BPR',0.12809372881912487,3,0.29506407755992703,2,0.02743523868548065,3,0.010447243050210435,2],['Random',0.5163860855461943,4,0.5171858827471364,4,0.00023116171948769733,4,0.0001733386209883186,4]]\n",
    "results=pd.DataFrame(data,columns=['Model','EPR (all)','Rank','EPR (no repeats)','Rank', 'MRR (all)','Rank','MRR (no repeats)','Rank'])\n",
    "results.set_index('Model',inplace=True)\n",
    "results.head()"
   ]
  }
 ],
 "metadata": {
  "kernelspec": {
   "display_name": "Python 3.6.10 64-bit (conda)",
   "language": "python",
   "name": "python361064bitconda74ddd9c02dc442f284c34ba5f9d3aa60"
  },
  "language_info": {
   "codemirror_mode": {
    "name": "ipython",
    "version": 3
   },
   "file_extension": ".py",
   "mimetype": "text/x-python",
   "name": "python",
   "nbconvert_exporter": "python",
   "pygments_lexer": "ipython3",
   "version": "3.6.10"
  }
 },
 "nbformat": 4,
 "nbformat_minor": 2
}
